{
 "cells": [
  {
   "cell_type": "code",
   "execution_count": 69,
   "metadata": {},
   "outputs": [],
   "source": [
    "# Imports\n",
    "import torch\n",
    "import torchvision\n",
    "import torch.nn as nn\n",
    "import torch.optim as optim\n",
    "import torch.nn.functional as F\n",
    "import numpy as np\n",
    "from sklearn.datasets import fetch_olivetti_faces\n",
    "import  matplotlib.pyplot as plt"
   ]
  },
  {
   "cell_type": "code",
   "execution_count": 66,
   "metadata": {},
   "outputs": [],
   "source": [
    "data = fetch_olivetti_faces()\n",
    "images = data.images.reshape((-1, 1, 64, 64))\n",
    "labels = np.arange(len(images))\n",
    "images_tensor = torch.tensor(images, dtype=torch.float32)\n",
    "labels_tensor = torch.tensor(labels, dtype=torch.long)\n",
    "dataset = torch.utils.data.TensorDataset(images_tensor, labels_tensor)\n",
    "\n",
    "index_to_split = int(0.2 * len(images))\n",
    "test_set = torch.utils.data.TensorDataset(images_tensor[index_to_split:], images_tensor[index_to_split:])\n",
    "\n",
    "train_loader = torch.utils.data.DataLoader(dataset, batch_size=64, shuffle=True)"
   ]
  },
  {
   "cell_type": "code",
   "execution_count": 65,
   "metadata": {},
   "outputs": [],
   "source": [
    "# Display a picture of dataset\n",
    "def show_picture(picture_index: int):\n",
    "    image = data.images[picture_index]\n",
    "    plt.imshow(image, cmap='gray')\n",
    "    plt.axis('off')\n",
    "    plt.show()"
   ]
  },
  {
   "cell_type": "code",
   "execution_count": 72,
   "metadata": {},
   "outputs": [],
   "source": [
    "# Each picture of the dataset is square 64px x 64px\n",
    "picture_size = 64\n",
    "\n",
    "class CNN_model(nn.Module):\n",
    "    def __init__(self):\n",
    "        super(CNN_model, self).__init__()\n",
    "        # Define layers\n",
    "        self.fc1 = nn.Linear(picture_size * picture_size, picture_size * picture_size)\n",
    "        self.fc2 = nn.Linear(picture_size * picture_size, picture_size * picture_size)\n",
    "        self.fc3 = nn.Linear(picture_size * picture_size, picture_size * picture_size)\n",
    "        self.fc4 = nn.Linear(picture_size * picture_size, picture_size * picture_size)\n",
    "\n",
    "    def forward(self, x):\n",
    "        # Forward pass through the layers with ReLU activation\n",
    "        x = F.relu(self.fc1(x))\n",
    "        x = F.relu(self.fc2(x))\n",
    "        x = F.relu(self.fc3(x))\n",
    "        x = self.fc4(x)\n",
    "        return x"
   ]
  },
  {
   "cell_type": "code",
   "execution_count": 74,
   "metadata": {},
   "outputs": [
    {
     "name": "stdout",
     "output_type": "stream",
     "text": [
      "Accuracy:  0.0%\n"
     ]
    }
   ],
   "source": [
    "EPOCH = 2\n",
    "\n",
    "model = CNN_model()\n",
    "loss_fonct = nn.CrossEntropyLoss()\n",
    "optimizer = optim.Adam(model.parameters(), lr=0.001)\n",
    "\n",
    "for epoch in range(EPOCH): #training\n",
    "    for batch in train_loader:\n",
    "        optimizer.zero_grad()\n",
    "        images, labels = batch\n",
    "        output = model.forward(images.reshape(images.shape[0], 64 * 64))\n",
    "        loss = loss_fonct(output, labels)\n",
    "        loss.backward()\n",
    "        optimizer.step()\n",
    "\n",
    "total, correct = 0, 0\n",
    "for image, label in test_set:\n",
    "    output = model.forward(image.reshape(1, 64 * 64))\n",
    "    # if (output.argmax(dim=1).item() == label):\n",
    "    #     correct += 1\n",
    "    total += 1\n",
    "\n",
    "print(\"Accuracy: \", str(correct / total * 100) + \"%\")"
   ]
  }
 ],
 "metadata": {
  "kernelspec": {
   "display_name": "Python 3",
   "language": "python",
   "name": "python3"
  },
  "language_info": {
   "codemirror_mode": {
    "name": "ipython",
    "version": 3
   },
   "file_extension": ".py",
   "mimetype": "text/x-python",
   "name": "python",
   "nbconvert_exporter": "python",
   "pygments_lexer": "ipython3",
   "version": "3.10.11"
  }
 },
 "nbformat": 4,
 "nbformat_minor": 2
}
