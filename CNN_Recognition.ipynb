{
 "cells": [
  {
   "cell_type": "code",
   "execution_count": 19,
   "metadata": {},
   "outputs": [],
   "source": [
    "# Imports\n",
    "import torch\n",
    "import torch.nn as nn\n",
    "import torch.optim as optim\n",
    "import torch.nn.functional as F\n",
    "import numpy as np\n",
    "from sklearn.datasets import fetch_olivetti_faces\n",
    "import matplotlib.pyplot as plt\n",
    "import tkinter as tk\n",
    "from tkinter import filedialog\n",
    "from PIL import Image, ImageTk\n",
    "from torchvision import transforms\n"
   ]
  },
  {
   "cell_type": "code",
   "execution_count": 20,
   "metadata": {},
   "outputs": [
    {
     "name": "stdout",
     "output_type": "stream",
     "text": [
      "tensor([[[0.5785, 0.6033, 0.6322,  ..., 0.2769, 0.2066, 0.1860],\n",
      "         [0.5537, 0.5785, 0.6116,  ..., 0.2727, 0.1942, 0.1694],\n",
      "         [0.5331, 0.5826, 0.6033,  ..., 0.2562, 0.1860, 0.1612],\n",
      "         ...,\n",
      "         [0.2438, 0.4711, 0.5000,  ..., 0.1446, 0.1653, 0.1653],\n",
      "         [0.2397, 0.4793, 0.5041,  ..., 0.1488, 0.1694, 0.1694],\n",
      "         [0.2273, 0.4876, 0.5165,  ..., 0.1777, 0.1612, 0.1529]]])\n",
      "tensor(2)\n"
     ]
    }
   ],
   "source": [
    "data = fetch_olivetti_faces()\n",
    "images = data.images.reshape((-1, 1, 64, 64))\n",
    "labels = np.arange(len(images))\n",
    "images_tensor = torch.tensor(images, dtype=torch.float32)\n",
    "labels_tensor = torch.tensor(data.target, dtype=torch.long)\n",
    "dataset = torch.utils.data.TensorDataset(images_tensor, labels_tensor)\n",
    "\n",
    "index_to_split = int(0.2 * len(images))\n",
    "test_set = torch.utils.data.TensorDataset(images_tensor, labels_tensor)\n",
    "image, label = test_set[20]\n",
    "print(image)\n",
    "print(label)\n",
    "train_loader = torch.utils.data.DataLoader(dataset, batch_size=64, shuffle=True)"
   ]
  },
  {
   "cell_type": "code",
   "execution_count": 21,
   "metadata": {},
   "outputs": [
    {
     "data": {
      "image/png": "[encoded data removed]",
      "text/plain": [
       "<Figure size 640x480 with 1 Axes>"
      ]
     },
     "metadata": {},
     "output_type": "display_data"
    }
   ],
   "source": [
    "# Display a picture of dataset\n",
    "def show_picture(picture_index: int):\n",
    "    image = data.images[picture_index]\n",
    "    plt.imshow(image, cmap='gray')\n",
    "    plt.axis('off')\n",
    "    plt.show()\n",
    "show_picture(91)"
   ]
  },
  {
   "cell_type": "code",
   "execution_count": 22,
   "metadata": {},
   "outputs": [],
   "source": [
    "# Each picture of the dataset is square 64px x 64px\n",
    "picture_size = 64\n",
    "\n",
    "class CNN_model(nn.Module):\n",
    "    def __init__(self):\n",
    "        super(CNN_model, self).__init__()\n",
    "        # Define layers\n",
    "        self.fc1 = nn.Linear(picture_size * picture_size, picture_size * picture_size)\n",
    "        self.fc2 = nn.Linear(picture_size * picture_size, picture_size * picture_size)\n",
    "        self.fc3 = nn.Linear(picture_size * picture_size, picture_size * picture_size)\n",
    "        self.fc4 = nn.Linear(picture_size * picture_size, 40)\n",
    "\n",
    "    def forward(self, x):\n",
    "        # Forward pass through the layers with ReLU activation\n",
    "        x = F.relu(self.fc1(x))\n",
    "        x = F.relu(self.fc2(x))\n",
    "        x = F.relu(self.fc3(x))\n",
    "        x = self.fc4(x)\n",
    "        return x"
   ]
  },
  {
   "cell_type": "code",
   "execution_count": 24,
   "metadata": {},
   "outputs": [
    {
     "name": "stdout",
     "output_type": "stream",
     "text": [
      "Accuracy:  100.0%\n"
     ]
    }
   ],
   "source": [
    "EPOCH = 100\n",
    "\n",
    "model = CNN_model()\n",
    "loss_fonct = nn.CrossEntropyLoss()\n",
    "optimizer = optim.Adam(model.parameters(), lr=0.0001)\n",
    "\n",
    "for epoch in range(EPOCH): #training\n",
    "    for batch in train_loader:\n",
    "        optimizer.zero_grad()\n",
    "        images, labels = batch\n",
    "        output = model.forward(images.reshape(images.shape[0], 64 * 64))\n",
    "        loss = loss_fonct(output, labels)\n",
    "        loss.backward()\n",
    "        optimizer.step()\n",
    "    # print(\"loss:\", loss.item())\n",
    "\n",
    "total, correct = 0, 0\n",
    "for image, label in test_set:\n",
    "    output = model.forward(image.reshape(1, 64 * 64))\n",
    "    if (output.argmax(dim=1).item() == label):\n",
    "        correct += 1\n",
    "    total += 1\n",
    "\n",
    "print(\"Accuracy: \", str(correct / total * 100) + \"%\")\n",
    "if (correct / total * 100 > 95):\n",
    "    torch.save(model, 'save/model.pt')"
   ]
  },
  {
   "cell_type": "code",
   "execution_count": null,
   "metadata": {},
   "outputs": [],
   "source": [
    "tensor_image = None\n",
    "\n",
    "def open_image():\n",
    "    global tensor_image # Use tensor_image variable to stock picture\n",
    "    # Enter a file from \"picture_data\" folder\n",
    "    file_path = filedialog.askopenfilename(title=\"Select a picture\", filetypes=[(\"Images\", \"*.png\")])\n",
    "    if file_path:\n",
    "        pil_image = Image.open(file_path)\n",
    "        tk_image = ImageTk.PhotoImage(pil_image)\n",
    "        image_label.config(image=tk_image)\n",
    "        image_label.image = tk_image\n",
    "        tensor_image = transforms.ToTensor()(pil_image)\n",
    "        image_label.pack()\n",
    "\n",
    "# Ask for picture\n",
    "root = tk.Tk()\n",
    "root.title(\"Select a picture\")\n",
    "open_button = tk.Button(root, text=\"Open a picture\", command=open_image)\n",
    "open_button.pack(pady=10)\n",
    "image_label = tk.Label(root)\n",
    "image_label.pack()\n",
    "root.mainloop()"
   ]
  }
 ],
 "metadata": {
  "kernelspec": {
   "display_name": "Python 3",
   "language": "python",
   "name": "python3"
  },
  "language_info": {
   "codemirror_mode": {
    "name": "ipython",
    "version": 3
   },
   "file_extension": ".py",
   "mimetype": "text/x-python",
   "name": "python",
   "nbconvert_exporter": "python",
   "pygments_lexer": "ipython3",
   "version": "3.10.11"
  },
  "vscode": {
   "interpreter": {
    "hash": "767d51c1340bd893661ea55ea3124f6de3c7a262a8b4abca0554b478b1e2ff90"
   }
  }
 },
 "nbformat": 4,
 "nbformat_minor": 2
}
