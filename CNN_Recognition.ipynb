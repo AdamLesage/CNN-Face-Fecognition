{
 "cells": [
  {
   "cell_type": "code",
   "execution_count": 2,
   "metadata": {},
   "outputs": [
    {
     "name": "stderr",
     "output_type": "stream",
     "text": [
      "/usr/lib64/python3.10/site-packages/scipy/__init__.py:146: UserWarning: A NumPy version >=1.17.3 and <1.25.0 is required for this version of SciPy (detected version 1.26.4\n",
      "  warnings.warn(f\"A NumPy version >={np_minversion} and <{np_maxversion}\"\n"
     ]
    }
   ],
   "source": [
    "# Imports\n",
    "import torch\n",
    "import torchvision\n",
    "import torch.nn as nn\n",
    "import torch.optim as optim\n",
    "import torch.nn.functional as F\n",
    "import numpy as np\n",
    "from sklearn.datasets import fetch_olivetti_faces\n",
    "import  matplotlib.pyplot as plt"
   ]
  },
  {
   "cell_type": "code",
   "execution_count": 38,
   "metadata": {},
   "outputs": [
    {
     "name": "stdout",
     "output_type": "stream",
     "text": [
      "tensor([[[0.5785, 0.6033, 0.6322,  ..., 0.2769, 0.2066, 0.1860],\n",
      "         [0.5537, 0.5785, 0.6116,  ..., 0.2727, 0.1942, 0.1694],\n",
      "         [0.5331, 0.5826, 0.6033,  ..., 0.2562, 0.1860, 0.1612],\n",
      "         ...,\n",
      "         [0.2438, 0.4711, 0.5000,  ..., 0.1446, 0.1653, 0.1653],\n",
      "         [0.2397, 0.4793, 0.5041,  ..., 0.1488, 0.1694, 0.1694],\n",
      "         [0.2273, 0.4876, 0.5165,  ..., 0.1777, 0.1612, 0.1529]]])\n",
      "tensor(2)\n"
     ]
    }
   ],
   "source": [
    "data = fetch_olivetti_faces()\n",
    "images = data.images.reshape((-1, 1, 64, 64))\n",
    "labels = np.arange(len(images))\n",
    "images_tensor = torch.tensor(images, dtype=torch.float32)\n",
    "labels_tensor = torch.tensor(data.target, dtype=torch.long)\n",
    "dataset = torch.utils.data.TensorDataset(images_tensor, labels_tensor)\n",
    "\n",
    "index_to_split = int(0.2 * len(images))\n",
    "test_set = torch.utils.data.TensorDataset(images_tensor, labels_tensor)\n",
    "image, label = test_set[20]\n",
    "print(image)\n",
    "print(label)\n",
    "train_loader = torch.utils.data.DataLoader(dataset, batch_size=64, shuffle=True)"
   ]
  },
  {
   "cell_type": "code",
   "execution_count": 16,
   "metadata": {},
   "outputs": [
    {
     "data": {
      "image/png": "[encoded data removed]",
      "text/plain": [
       "<Figure size 640x480 with 1 Axes>"
      ]
     },
     "metadata": {},
     "output_type": "display_data"
    }
   ],
   "source": [
    "# Display a picture of dataset\n",
    "def show_picture(picture_index: int):\n",
    "    image = data.images[picture_index]\n",
    "    plt.imshow(image, cmap='gray')\n",
    "    plt.axis('off')\n",
    "    plt.show()\n",
    "show_picture(8)"
   ]
  },
  {
   "cell_type": "code",
   "execution_count": 42,
   "metadata": {},
   "outputs": [],
   "source": [
    "# Each picture of the dataset is square 64px x 64px\n",
    "picture_size = 64\n",
    "\n",
    "class CNN_model(nn.Module):\n",
    "    def __init__(self):\n",
    "        super(CNN_model, self).__init__()\n",
    "        # Define layers\n",
    "        self.fc1 = nn.Linear(picture_size * picture_size, picture_size * picture_size)\n",
    "        self.fc2 = nn.Linear(picture_size * picture_size, picture_size * picture_size)\n",
    "        self.fc3 = nn.Linear(picture_size * picture_size, picture_size * picture_size)\n",
    "        self.fc4 = nn.Linear(picture_size * picture_size, 40)\n",
    "\n",
    "    def forward(self, x):\n",
    "        # Forward pass through the layers with ReLU activation\n",
    "        x = F.relu(self.fc1(x))\n",
    "        x = F.relu(self.fc2(x))\n",
    "        x = F.relu(self.fc3(x))\n",
    "        x = self.fc4(x)\n",
    "        return x"
   ]
  },
  {
   "cell_type": "code",
   "execution_count": 52,
   "metadata": {},
   "outputs": [
    {
     "name": "stdout",
     "output_type": "stream",
     "text": [
      "loss: 3.765451431274414\n",
      "loss: 3.728684186935425\n",
      "loss: 3.699770927429199\n",
      "loss: 3.6314339637756348\n",
      "loss: 3.556973934173584\n",
      "loss: 3.335460901260376\n",
      "loss: 3.2836146354675293\n",
      "loss: 3.0850913524627686\n",
      "loss: 3.1556639671325684\n",
      "loss: 2.8062853813171387\n",
      "loss: 2.3046412467956543\n",
      "loss: 2.308802604675293\n",
      "loss: 1.7983005046844482\n",
      "loss: 1.5774199962615967\n",
      "loss: 1.7829588651657104\n",
      "loss: 1.987127661705017\n",
      "loss: 1.424532413482666\n",
      "loss: 1.2883293628692627\n",
      "loss: 1.345719575881958\n",
      "loss: 1.622786521911621\n",
      "loss: 1.4172306060791016\n",
      "loss: 0.9437979459762573\n",
      "loss: 1.0358349084854126\n",
      "loss: 0.7290633320808411\n",
      "loss: 0.333121120929718\n",
      "loss: 0.6810296177864075\n",
      "loss: 0.8559070825576782\n",
      "loss: 0.6381418108940125\n",
      "loss: 0.5094340443611145\n",
      "loss: 0.8212660551071167\n",
      "loss: 0.33356115221977234\n",
      "loss: 0.5670693516731262\n",
      "loss: 0.22707504034042358\n",
      "loss: 0.44055548310279846\n",
      "loss: 0.4372106194496155\n",
      "loss: 0.3355337679386139\n",
      "loss: 0.3379516303539276\n",
      "loss: 0.3184938132762909\n",
      "loss: 0.2402958869934082\n",
      "loss: 0.18295173346996307\n",
      "loss: 0.13075408339500427\n",
      "loss: 0.16854041814804077\n",
      "loss: 0.2845621109008789\n",
      "loss: 0.27053600549697876\n",
      "loss: 0.08021282404661179\n",
      "loss: 0.15614917874336243\n",
      "loss: 0.3154841959476471\n",
      "loss: 0.22298471629619598\n",
      "loss: 0.08373377472162247\n",
      "loss: 0.08532504737377167\n",
      "loss: 0.05832774192094803\n",
      "loss: 0.055618561804294586\n",
      "loss: 0.2717578113079071\n",
      "loss: 0.09999914467334747\n",
      "loss: 0.14284266531467438\n",
      "loss: 0.1042388528585434\n",
      "loss: 0.10147145390510559\n",
      "loss: 0.20774614810943604\n",
      "loss: 0.12499178946018219\n",
      "loss: 0.08378750085830688\n",
      "loss: 0.12003181874752045\n",
      "loss: 0.12371577322483063\n",
      "loss: 0.11741475015878677\n",
      "loss: 0.055163346230983734\n",
      "loss: 0.05434850603342056\n",
      "loss: 0.027120882645249367\n",
      "loss: 0.05932142585515976\n",
      "loss: 0.12886621057987213\n",
      "loss: 0.05023963004350662\n",
      "loss: 0.10009259730577469\n",
      "loss: 0.08181022852659225\n",
      "loss: 0.10634052753448486\n",
      "loss: 0.03799111023545265\n",
      "loss: 0.08194493502378464\n",
      "loss: 0.03652464970946312\n",
      "loss: 0.02501474693417549\n",
      "loss: 0.04185016453266144\n",
      "loss: 0.0257406048476696\n",
      "loss: 0.03164222463965416\n",
      "loss: 0.015752650797367096\n",
      "loss: 0.018439756706357002\n",
      "loss: 0.020794041454792023\n",
      "loss: 0.02872198447585106\n",
      "loss: 0.02132546901702881\n",
      "loss: 0.026110362261533737\n",
      "loss: 0.017790157347917557\n",
      "loss: 0.024467580020427704\n",
      "loss: 0.021155793219804764\n",
      "loss: 0.019916247576475143\n",
      "loss: 0.016584910452365875\n",
      "loss: 0.018168048933148384\n",
      "loss: 0.004836710169911385\n",
      "loss: 0.01349999662488699\n",
      "loss: 0.013477924279868603\n",
      "loss: 0.007761810440570116\n",
      "loss: 0.008728505112230778\n",
      "loss: 0.011962161399424076\n",
      "loss: 0.004508095793426037\n",
      "loss: 0.006390325725078583\n",
      "loss: 0.0036176005378365517\n",
      "Accuracy:  100.0%\n"
     ]
    }
   ],
   "source": [
    "EPOCH = 100\n",
    "\n",
    "model = CNN_model()\n",
    "loss_fonct = nn.CrossEntropyLoss()\n",
    "optimizer = optim.Adam(model.parameters(), lr=0.0001)\n",
    "\n",
    "for epoch in range(EPOCH): #training\n",
    "    for batch in train_loader:\n",
    "        optimizer.zero_grad()\n",
    "        images, labels = batch\n",
    "        output = model.forward(images.reshape(images.shape[0], 64 * 64))\n",
    "        loss = loss_fonct(output, labels)\n",
    "        loss.backward()\n",
    "        optimizer.step()\n",
    "    print(\"loss:\", loss.item())\n",
    "\n",
    "total, correct = 0, 0\n",
    "for image, label in test_set:\n",
    "    output = model.forward(image.reshape(1, 64 * 64))\n",
    "    if (output.argmax(dim=1).item() == label):\n",
    "        correct += 1\n",
    "    total += 1\n",
    "\n",
    "print(\"Accuracy: \", str(correct / total * 100) + \"%\")\n",
    "if (correct / total * 100 > 95):\n",
    "    torch.save(model, 'save/model.pt')"
   ]
  }
 ],
 "metadata": {
  "kernelspec": {
   "display_name": "Python 3",
   "language": "python",
   "name": "python3"
  },
  "language_info": {
   "codemirror_mode": {
    "name": "ipython",
    "version": 3
   },
   "file_extension": ".py",
   "mimetype": "text/x-python",
   "name": "python",
   "nbconvert_exporter": "python",
   "pygments_lexer": "ipython3",
   "version": "3.10.11"
  },
  "vscode": {
   "interpreter": {
    "hash": "767d51c1340bd893661ea55ea3124f6de3c7a262a8b4abca0554b478b1e2ff90"
   }
  }
 },
 "nbformat": 4,
 "nbformat_minor": 2
}
